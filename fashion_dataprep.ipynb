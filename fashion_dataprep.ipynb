{
 "cells": [
  {
   "cell_type": "code",
   "execution_count": 2,
   "metadata": {},
   "outputs": [],
   "source": [
    "import pandas as pd\n",
    "import os\n",
    "from sklearn.model_selection import train_test_split\n",
    "from random import random\n",
    "import pickle"
   ]
  },
  {
   "cell_type": "code",
   "execution_count": 3,
   "metadata": {},
   "outputs": [],
   "source": [
    "all_files =[]\n",
    "\n",
    "for file in os.listdir(r'C:\\Users\\ambat\\Documents\\NN DL\\fashion\\images'):                    \n",
    "    all_files.append(file)"
   ]
  },
  {
   "cell_type": "code",
   "execution_count": 4,
   "metadata": {},
   "outputs": [
    {
     "data": {
      "text/plain": [
       "44096"
      ]
     },
     "execution_count": 4,
     "metadata": {},
     "output_type": "execute_result"
    }
   ],
   "source": [
    "len(all_files)"
   ]
  },
  {
   "cell_type": "code",
   "execution_count": 5,
   "metadata": {},
   "outputs": [],
   "source": [
    "import random\n",
    "all_files = random.sample(all_files, 35000)"
   ]
  },
  {
   "cell_type": "code",
   "execution_count": 6,
   "metadata": {},
   "outputs": [
    {
     "data": {
      "text/plain": [
       "35000"
      ]
     },
     "execution_count": 6,
     "metadata": {},
     "output_type": "execute_result"
    }
   ],
   "source": [
    "len(all_files)"
   ]
  },
  {
   "cell_type": "code",
   "execution_count": 7,
   "metadata": {},
   "outputs": [],
   "source": [
    "img_files =[x.split('.')[0] for x in all_files]"
   ]
  },
  {
   "cell_type": "code",
   "execution_count": 8,
   "metadata": {},
   "outputs": [],
   "source": [
    "fold_path = r'C:\\Users\\ambat\\Documents\\NN DL\\fashion\\text'\n",
    "text_files = []\n",
    "for file in os.listdir(fold_path):\n",
    "    text_name = file.split('.')[0]\n",
    "    if text_name in img_files:\n",
    "     text_files.append(text_name)"
   ]
  },
  {
   "cell_type": "code",
   "execution_count": 9,
   "metadata": {},
   "outputs": [
    {
     "data": {
      "text/plain": [
       "33774"
      ]
     },
     "execution_count": 9,
     "metadata": {},
     "output_type": "execute_result"
    }
   ],
   "source": [
    "len(text_files)"
   ]
  },
  {
   "cell_type": "code",
   "execution_count": 10,
   "metadata": {},
   "outputs": [],
   "source": [
    "a= ['WOMEN-Blouses_Shirts-id_00006144-01_7_additional' , 'MEN-Sweaters-id_00005177-03_3_back',\n",
    "'WOMEN-Dresses-id_00000825-02_7_additional', 'MEN-Sweatshirts_Hoodies-id_00000881-02_7_additional',\n",
    "'WOMEN-Blouses_Shirts-id_00003610-04_7_additional', 'WOMEN-Dresses-id_00002980-02_7_additional',\n",
    "'WOMEN-Sweaters-id_00001262-08_3_back']"
   ]
  },
  {
   "cell_type": "code",
   "execution_count": 11,
   "metadata": {},
   "outputs": [
    {
     "data": {
      "text/plain": [
       "33769"
      ]
     },
     "execution_count": 11,
     "metadata": {},
     "output_type": "execute_result"
    }
   ],
   "source": [
    "text_files = [x for x in text_files if x not in a]\n",
    "len(text_files)"
   ]
  },
  {
   "cell_type": "code",
   "execution_count": 12,
   "metadata": {},
   "outputs": [],
   "source": [
    "uploaded_data = r'C:\\Users\\ambat\\Documents\\AttentionGAN\\fashion\\images'\n",
    "uploaded_files =[]\n",
    "for i in os.listdir(uploaded_data):\n",
    "    uploaded_files.append(i.split('.')[0])\n"
   ]
  },
  {
   "cell_type": "code",
   "execution_count": 13,
   "metadata": {},
   "outputs": [
    {
     "data": {
      "text/plain": [
       "5000"
      ]
     },
     "execution_count": 13,
     "metadata": {},
     "output_type": "execute_result"
    }
   ],
   "source": [
    "len(uploaded_files)"
   ]
  },
  {
   "cell_type": "code",
   "execution_count": 15,
   "metadata": {},
   "outputs": [],
   "source": [
    "import shutil\n",
    "srcp = r'C:\\Users\\ambat\\Documents\\NN DL\\fashion\\images'\n",
    "\n",
    "\n",
    "# srcp_txt = r'C:\\Users\\ambat\\Documents\\NN DL\\fashion\\text'\n",
    "# destp_txt = r'C:\\Users\\ambat\\Documents\\AttentionGAN\\fashion_temp2\\text'\n",
    "count = 0\n",
    "a = 0\n",
    "for i in all_files:\n",
    "    if i.split('.')[0] in text_files:\n",
    "        if i.split('.')[0] not in uploaded_files:\n",
    "            if count==0 or count%5000 == 0:\n",
    "                a = a+1\n",
    "                destp = fr'C:\\Users\\ambat\\Documents\\AttentionGAN\\temp{a}\\images'\n",
    "                os.makedirs(destp,exist_ok=True)\n",
    "\n",
    "            count = count+1\n",
    "            src = os.path.join(srcp,i)\n",
    "            dst = os.path.join(destp,i)\n",
    "            shutil.copy(src, dst) \n",
    "\n",
    "\n",
    "            # src_txt = os.path.join(srcp_txt,i.split('.')[0]+'.txt')\n",
    "            # dst_txt = os.path.join(destp_txt,i.split('.')[0]+'.txt')\n",
    "            # shutil.copy(src_txt, dst_txt)  "
   ]
  },
  {
   "cell_type": "code",
   "execution_count": null,
   "metadata": {},
   "outputs": [],
   "source": [
    "train_files = []\n",
    "test_files = []"
   ]
  },
  {
   "cell_type": "code",
   "execution_count": 165,
   "metadata": {},
   "outputs": [],
   "source": [
    "df = pd.DataFrame(text_files,columns=['files'])"
   ]
  },
  {
   "cell_type": "code",
   "execution_count": 166,
   "metadata": {},
   "outputs": [],
   "source": [
    "train, test = train_test_split(df, test_size=0.15)"
   ]
  },
  {
   "cell_type": "code",
   "execution_count": 167,
   "metadata": {},
   "outputs": [
    {
     "data": {
      "text/html": [
       "<div>\n",
       "<style scoped>\n",
       "    .dataframe tbody tr th:only-of-type {\n",
       "        vertical-align: middle;\n",
       "    }\n",
       "\n",
       "    .dataframe tbody tr th {\n",
       "        vertical-align: top;\n",
       "    }\n",
       "\n",
       "    .dataframe thead th {\n",
       "        text-align: right;\n",
       "    }\n",
       "</style>\n",
       "<table border=\"1\" class=\"dataframe\">\n",
       "  <thead>\n",
       "    <tr style=\"text-align: right;\">\n",
       "      <th></th>\n",
       "      <th>files</th>\n",
       "    </tr>\n",
       "  </thead>\n",
       "  <tbody>\n",
       "    <tr>\n",
       "      <th>5883</th>\n",
       "      <td>WOMEN-Blouses_Shirts-id_00002846-01_7_additional</td>\n",
       "    </tr>\n",
       "    <tr>\n",
       "      <th>20957</th>\n",
       "      <td>WOMEN-Shorts-id_00004696-02_4_full</td>\n",
       "    </tr>\n",
       "    <tr>\n",
       "      <th>29310</th>\n",
       "      <td>WOMEN-Tees_Tanks-id_00004042-03_3_back</td>\n",
       "    </tr>\n",
       "    <tr>\n",
       "      <th>9463</th>\n",
       "      <td>WOMEN-Blouses_Shirts-id_00007528-03_7_additional</td>\n",
       "    </tr>\n",
       "    <tr>\n",
       "      <th>6829</th>\n",
       "      <td>WOMEN-Blouses_Shirts-id_00004164-03_4_full</td>\n",
       "    </tr>\n",
       "    <tr>\n",
       "      <th>...</th>\n",
       "      <td>...</td>\n",
       "    </tr>\n",
       "    <tr>\n",
       "      <th>19231</th>\n",
       "      <td>WOMEN-Rompers_Jumpsuits-id_00000658-02_1_front</td>\n",
       "    </tr>\n",
       "    <tr>\n",
       "      <th>13942</th>\n",
       "      <td>WOMEN-Dresses-id_00004796-05_3_back</td>\n",
       "    </tr>\n",
       "    <tr>\n",
       "      <th>23598</th>\n",
       "      <td>WOMEN-Sweaters-id_00005434-05_7_additional</td>\n",
       "    </tr>\n",
       "    <tr>\n",
       "      <th>22839</th>\n",
       "      <td>WOMEN-Sweaters-id_00002853-05_2_side</td>\n",
       "    </tr>\n",
       "    <tr>\n",
       "      <th>9039</th>\n",
       "      <td>WOMEN-Blouses_Shirts-id_00007039-02_1_front</td>\n",
       "    </tr>\n",
       "  </tbody>\n",
       "</table>\n",
       "<p>28717 rows × 1 columns</p>\n",
       "</div>"
      ],
      "text/plain": [
       "                                                  files\n",
       "5883   WOMEN-Blouses_Shirts-id_00002846-01_7_additional\n",
       "20957                WOMEN-Shorts-id_00004696-02_4_full\n",
       "29310            WOMEN-Tees_Tanks-id_00004042-03_3_back\n",
       "9463   WOMEN-Blouses_Shirts-id_00007528-03_7_additional\n",
       "6829         WOMEN-Blouses_Shirts-id_00004164-03_4_full\n",
       "...                                                 ...\n",
       "19231    WOMEN-Rompers_Jumpsuits-id_00000658-02_1_front\n",
       "13942               WOMEN-Dresses-id_00004796-05_3_back\n",
       "23598        WOMEN-Sweaters-id_00005434-05_7_additional\n",
       "22839              WOMEN-Sweaters-id_00002853-05_2_side\n",
       "9039        WOMEN-Blouses_Shirts-id_00007039-02_1_front\n",
       "\n",
       "[28717 rows x 1 columns]"
      ]
     },
     "execution_count": 167,
     "metadata": {},
     "output_type": "execute_result"
    }
   ],
   "source": [
    "train"
   ]
  },
  {
   "cell_type": "code",
   "execution_count": 168,
   "metadata": {},
   "outputs": [],
   "source": [
    "train_files =[]"
   ]
  },
  {
   "cell_type": "code",
   "execution_count": 169,
   "metadata": {},
   "outputs": [],
   "source": [
    "for i in range(0,len(train)):\n",
    "    train_files.append(train.iloc[i,0])"
   ]
  },
  {
   "cell_type": "code",
   "execution_count": 170,
   "metadata": {},
   "outputs": [],
   "source": [
    "test_files =[]"
   ]
  },
  {
   "cell_type": "code",
   "execution_count": 171,
   "metadata": {},
   "outputs": [],
   "source": [
    "for i in range(0,len(test)):\n",
    "    test_files.append(test.iloc[i,0])"
   ]
  },
  {
   "cell_type": "code",
   "execution_count": 172,
   "metadata": {},
   "outputs": [
    {
     "data": {
      "text/plain": [
       "(5068, 28717)"
      ]
     },
     "execution_count": 172,
     "metadata": {},
     "output_type": "execute_result"
    }
   ],
   "source": [
    "len(test_files), len(train_files)"
   ]
  },
  {
   "cell_type": "code",
   "execution_count": 173,
   "metadata": {},
   "outputs": [],
   "source": [
    "with open(r'C:\\Users\\ambat\\Documents\\NN DL\\fashion_temp1\\train\\filenames.pickle', 'wb') as f:\n",
    "    pickle.dump(train_files, f)"
   ]
  },
  {
   "cell_type": "code",
   "execution_count": 174,
   "metadata": {},
   "outputs": [],
   "source": [
    "with open(r'C:\\Users\\ambat\\Documents\\NN DL\\fashion_temp1\\test\\filenames.pickle', 'wb') as f:\n",
    "    pickle.dump(test_files, f)"
   ]
  },
  {
   "cell_type": "code",
   "execution_count": null,
   "metadata": {},
   "outputs": [],
   "source": []
  }
 ],
 "metadata": {
  "kernelspec": {
   "display_name": "Python 3",
   "language": "python",
   "name": "python3"
  },
  "language_info": {
   "codemirror_mode": {
    "name": "ipython",
    "version": 3
   },
   "file_extension": ".py",
   "mimetype": "text/x-python",
   "name": "python",
   "nbconvert_exporter": "python",
   "pygments_lexer": "ipython3",
   "version": "3.12.0"
  }
 },
 "nbformat": 4,
 "nbformat_minor": 2
}
